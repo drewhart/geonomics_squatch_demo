{
 "cells": [
  {
   "cell_type": "markdown",
   "id": "painful-brake",
   "metadata": {},
   "source": [
    "<table>\n",
    "    <tr>\n",
    "        <td>\n",
    "            <img src='./img/gnx_mini.png' width='200'>\n",
    "        </td>\n",
    "        <td></td>\n",
    "        <td></td>\n",
    "        <td></td>\n",
    "        <td></td>\n",
    "        <td></td>\n",
    "        <td></td>\n",
    "        <td></td>\n",
    "        <td></td>\n",
    "        <td></td>\n",
    "        <td></td>\n",
    "        <td></td>\n",
    "        <td></td>\n",
    "        <td></td>\n",
    "        <td></td>\n",
    "        <td></td>\n",
    "        <td></td>\n",
    "        <td></td>\n",
    "        <td></td>\n",
    "        <td></td>\n",
    "        <td></td>\n",
    "        <td></td>\n",
    "        <td></td>\n",
    "        <td></td>\n",
    "        <td></td>\n",
    "        <td></td>\n",
    "        <td></td>\n",
    "        <td></td>\n",
    "        <td></td>\n",
    "        <td></td>\n",
    "        <td></td>\n",
    "        <td></td>\n",
    "        <td></td>\n",
    "        <td></td>\n",
    "        <td></td>\n",
    "        <td></td>\n",
    "        <td>\n",
    "            <img src='https://upload.wikimedia.org/wikipedia/commons/thumb/c/c3/Python-logo-notext.svg/768px-Python-logo-notext.svg.png' width='100'>\n",
    "        </td>\n",
    "    </tr>\n",
    "</table>\n",
    "\n",
    "<img src='./img/header_img_3.png' width=800>\n",
    "\n",
    "<br>\n",
    "<br>\n",
    "\n",
    "# Drew Terasaki Hart\n",
    "\n",
    "# UC Berkeley\n",
    "\n",
    "-----------------------\n",
    "\n"
   ]
  },
  {
   "cell_type": "markdown",
   "id": "collective-commonwealth",
   "metadata": {},
   "source": [
    "For a full rundown, with validations and examples, see:\n",
    "\n",
    "**Terasaki Hart DE, Bishop AP, Wang IJ. 2021. *(in press).* Geonomics: forward-time, spatially explicit, and arbitrarily complex landscape genomic simulations. Mol Biol Evol.**\n",
    "\n",
    "\n",
    "-----------------\n",
    "\n",
    "Source code for this notebook is available: \n",
    "\n",
    "**https://github.com/drewhart/geonomics_squatch_demo**\n",
    "\n",
    "-------------------"
   ]
  },
  {
   "cell_type": "markdown",
   "id": "flying-sound",
   "metadata": {},
   "source": [
    "<div class=\"alert alert-info\" role=\"alert\" style=\"font-size:120%\">\n",
    "    <b><h2>Introduction</h2></b>"
   ]
  },
  {
   "cell_type": "markdown",
   "id": "ongoing-citizenship",
   "metadata": {},
   "source": [
    "# Conceptual framework\n",
    "\n",
    "<img src='./img/FIG_1_geonomics_conceptual_diagram.png' width='800'>\n",
    "\n",
    "----------------------------------"
   ]
  },
  {
   "cell_type": "markdown",
   "id": "respected-sucking",
   "metadata": {},
   "source": [
    "<div class=\"alert alert-info\" role=\"alert\" style=\"font-size:120%\">\n",
    "    <b><h2>Documentation</h2></b>\n",
    "\n",
    "#### geonomics.readthedocs.org"
   ]
  },
  {
   "cell_type": "code",
   "execution_count": 41,
   "id": "norman-elimination",
   "metadata": {},
   "outputs": [
    {
     "data": {
      "text/html": [
       "\n",
       "        <iframe\n",
       "            width=\"1000\"\n",
       "            height=\"500\"\n",
       "            src=\"https://geonomics.rtfd.org\"\n",
       "            frameborder=\"0\"\n",
       "            allowfullscreen\n",
       "        ></iframe>\n",
       "        "
      ],
      "text/plain": [
       "<IPython.lib.display.IFrame at 0x7fe913f6fb10>"
      ]
     },
     "execution_count": 41,
     "metadata": {},
     "output_type": "execute_result"
    }
   ],
   "source": [
    "from IPython.display import IFrame\n",
    "import matplotlib.pyplot as plt\n",
    "\n",
    "IFrame(src='https://geonomics.rtfd.org', width=1000, height=500)"
   ]
  },
  {
   "cell_type": "markdown",
   "id": "variable-summary",
   "metadata": {},
   "source": [
    "<div class=\"alert alert-info\" role=\"alert\" style=\"font-size:120%\">\n",
    "    <b><h2>Installation</h2></b>"
   ]
  },
  {
   "cell_type": "code",
   "execution_count": 112,
   "id": "chief-breach",
   "metadata": {},
   "outputs": [],
   "source": [
    "pip install geonomics"
   ]
  },
  {
   "cell_type": "markdown",
   "id": "geographic-dating",
   "metadata": {},
   "source": [
    "<div class=\"alert alert-info\" role=\"alert\" style=\"font-size:120%\">\n",
    "    <b><h2>Usage</h2></b>"
   ]
  },
  {
   "cell_type": "markdown",
   "id": "expired-memphis",
   "metadata": {},
   "source": [
    "### import the package"
   ]
  },
  {
   "cell_type": "code",
   "execution_count": 104,
   "id": "seven-acoustic",
   "metadata": {},
   "outputs": [],
   "source": [
    "import geonomics as gnx"
   ]
  },
  {
   "cell_type": "markdown",
   "id": "amino-module",
   "metadata": {},
   "source": [
    "### run the default model"
   ]
  },
  {
   "cell_type": "code",
   "execution_count": 106,
   "id": "precise-climate",
   "metadata": {
    "scrolled": true
   },
   "outputs": [],
   "source": [
    "mod = gnx.run_default_model()"
   ]
  },
  {
   "cell_type": "markdown",
   "id": "national-custom",
   "metadata": {},
   "source": [
    "--------------------\n",
    "\n",
    "### run a more complex model\n",
    "\n",
    "<table>\n",
    "    <tr>\n",
    "        <td>\n",
    "            <img src='https://i.pinimg.com/originals/d2/08/1c/d2081c4dee205011ed262bc5c6fe845f.png' width='200'>\n",
    "        </td>\n",
    "        <td></td>\n",
    "        <td></td>\n",
    "        <td></td>\n",
    "        <td></td>\n",
    "        <td></td>\n",
    "        <td></td>\n",
    "        <td>\n",
    "            <img src='./img/lozier_paper_head.png' width='650'>\n",
    "        </td>\n",
    "    </tr>\n",
    "</table>\n",
    "\n",
    "\n",
    "<img src=\"./img/squatch_dist.png\" width=\"400\">\n"
   ]
  },
  {
   "cell_type": "markdown",
   "id": "derived-reggae",
   "metadata": {},
   "source": [
    "#### take a look at the raster files"
   ]
  },
  {
   "cell_type": "code",
   "execution_count": 107,
   "id": "dated-retrieval",
   "metadata": {},
   "outputs": [],
   "source": [
    "ls -R ./squatch_lyrs/"
   ]
  },
  {
   "cell_type": "markdown",
   "id": "conceptual-container",
   "metadata": {},
   "source": [
    "#### display the code that made the parameters file"
   ]
  },
  {
   "cell_type": "code",
   "execution_count": null,
   "id": "amazing-broadcasting",
   "metadata": {},
   "outputs": [],
   "source": [
    "%load ./make_squatch_params_file.py"
   ]
  },
  {
   "cell_type": "markdown",
   "id": "pharmaceutical-preview",
   "metadata": {},
   "source": [
    "#### display the parameters file with edited values"
   ]
  },
  {
   "cell_type": "code",
   "execution_count": null,
   "id": "appreciated-lighting",
   "metadata": {},
   "outputs": [],
   "source": [
    "%load ./squatch_params.py"
   ]
  },
  {
   "cell_type": "markdown",
   "id": "transparent-elite",
   "metadata": {},
   "source": [
    "#### make the model object"
   ]
  },
  {
   "cell_type": "code",
   "execution_count": 108,
   "id": "utility-first",
   "metadata": {},
   "outputs": [],
   "source": [
    "mod = gnx.make_model('./squatch_params.py', verbose=True)"
   ]
  },
  {
   "cell_type": "markdown",
   "id": "bearing-lecture",
   "metadata": {},
   "source": [
    "#### run the burn-in, then plot phenotypes"
   ]
  },
  {
   "cell_type": "code",
   "execution_count": 109,
   "id": "magnetic-blood",
   "metadata": {
    "scrolled": false
   },
   "outputs": [],
   "source": [
    "mod.walk(10000, mode='burn')\n",
    "\n",
    "fig = plt.figure(figsize=(18,36))\n",
    "ax1 = fig.add_subplot(121)\n",
    "mod.plot_phenotype(spp=0, trt=0)\n",
    "ax2 = fig.add_subplot(122)\n",
    "mod.plot_phenotype(spp=0, trt=1)"
   ]
  },
  {
   "cell_type": "markdown",
   "id": "accessory-population",
   "metadata": {},
   "source": [
    "#### run the pre-climate change portion of the model, then plot phenotypes"
   ]
  },
  {
   "cell_type": "code",
   "execution_count": 110,
   "id": "urban-gambling",
   "metadata": {
    "scrolled": false
   },
   "outputs": [],
   "source": [
    "mod.walk(40)\n",
    "\n",
    "fig = plt.figure(figsize=(18,36))\n",
    "ax1 = fig.add_subplot(121)\n",
    "mod.plot_phenotype(spp=0, trt=0)\n",
    "ax2 = fig.add_subplot(122)\n",
    "mod.plot_phenotype(spp=0, trt=1)"
   ]
  },
  {
   "cell_type": "markdown",
   "id": "judicial-newspaper",
   "metadata": {},
   "source": [
    "#### run the climate-change portion of the model, then plot phenotypes"
   ]
  },
  {
   "cell_type": "code",
   "execution_count": 111,
   "id": "wired-concert",
   "metadata": {
    "scrolled": false
   },
   "outputs": [],
   "source": [
    "mod.walk(20)\n",
    "\n",
    "fig = plt.figure(figsize=(18,36))\n",
    "ax1 = fig.add_subplot(121)\n",
    "mod.plot_phenotype(spp=0, trt=0)\n",
    "ax2 = fig.add_subplot(122)\n",
    "mod.plot_phenotype(spp=0, trt=1)"
   ]
  },
  {
   "cell_type": "markdown",
   "id": "white-russell",
   "metadata": {},
   "source": [
    "<div class=\"alert alert-info\" role=\"alert\" style=\"font-size:120%\">\n",
    "    <b><h2>Thank you!</h2></b>"
   ]
  },
  {
   "cell_type": "markdown",
   "id": "italic-northern",
   "metadata": {},
   "source": [
    "<img src=\"https://www.logolynx.com/images/logolynx/93/93fda510c02c21a6c9ebb00721a52edb.jpeg\" width=\"600\" align=\"left\">\n"
   ]
  },
  {
   "cell_type": "markdown",
   "id": "specific-addition",
   "metadata": {},
   "source": [
    "Dr. Ian Wang, Anusha Bishop, and other Wang lab members\n",
    "\n",
    "UC Berkeley, Berkeley Fellowship\n",
    "\n",
    "Dr. Jeff Lozier\n",
    "\n",
    "Boyue Xu\n",
    "\n",
    "Irene Wang\n",
    "\n",
    "Jiazheng Zhao\n",
    "\n",
    "Dr. David O’Sullivan\n",
    "\n",
    "Dr. Gideon Bradburd\n",
    "\n",
    "Dr. Todd Dawson\n",
    "\n",
    "Dr. Rasmus Nielsen\n",
    "\n",
    "Dr. Tim O’Connor\n",
    "\n",
    "Dr. Maggi Kelly\n",
    "\n",
    "Dr. Noah Whiteman"
   ]
  },
  {
   "cell_type": "markdown",
   "id": "strange-manufacturer",
   "metadata": {},
   "source": [
    "<div class=\"alert alert-info\" role=\"warn\" style=\"font-size:120%\">\n",
    "    <b><h2>Get in touch!</h2></b>"
   ]
  },
  {
   "cell_type": "markdown",
   "id": "purple-beaver",
   "metadata": {},
   "source": [
    "<img src=\"./img/gnx_mini.png\" width=\"250\" align=\"left\">"
   ]
  },
  {
   "cell_type": "markdown",
   "id": "stone-collective",
   "metadata": {},
   "source": [
    "New user?\n",
    "\n",
    "Hopeful user? \n",
    "\n",
    "Have a question?\n",
    "\n",
    "Have a suggestion?\n",
    "\n",
    "Found a bug?\n",
    "\n",
    "**I'm happy to help you get set up or troubleshoot problems!**\n",
    "\n",
    "----------------\n",
    "\n",
    "### Drew Terasaki Hart\n",
    "### drew.hart@berkeley.edu\n",
    "### https://geonomics.rtfd.org "
   ]
  }
 ],
 "metadata": {
  "kernelspec": {
   "display_name": "Python 3",
   "language": "python",
   "name": "python3"
  },
  "language_info": {
   "codemirror_mode": {
    "name": "ipython",
    "version": 3
   },
   "file_extension": ".py",
   "mimetype": "text/x-python",
   "name": "python",
   "nbconvert_exporter": "python",
   "pygments_lexer": "ipython3",
   "version": "3.7.10"
  }
 },
 "nbformat": 4,
 "nbformat_minor": 5
}
